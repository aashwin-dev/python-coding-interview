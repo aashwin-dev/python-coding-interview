{
 "cells": [
  {
   "cell_type": "markdown",
   "metadata": {},
   "source": [
    "# Problem: [Two Sum](https://leetcode.com/problems/two-sum/)\n",
    "\n",
    "\n",
    "* [Constraints](#Constraints)\n",
    "* [Test Cases](#Test-Cases)\n",
    "* [Algorithm](#Algorithm)\n",
    "* [Complexity](#Complexity)\n",
    "* [Code](#Code)\n",
    "* [Unit Test](#Unit-Test)"
   ]
  },
  {
   "cell_type": "markdown",
   "metadata": {},
   "source": [
    "# Constraints\n",
    "\n",
    "* 2 <= `nums.length` <= 104\n",
    "* -109 <= `nums[i]` <= 109\n",
    "* -109 <= `target` <= 109\n",
    "* Only one valid answer exists."
   ]
  },
  {
   "cell_type": "markdown",
   "metadata": {},
   "source": [
    "# Test Cases\n",
    "* `nums = [2, 7, 11, 15], target = 9`\n",
    "* `nums = [3, 2, 4], target = 6`\n",
    "* `nums = [3, 3], target = 5`\n",
    "* `nums = [2, 5], target = 8`"
   ]
  },
  {
   "cell_type": "markdown",
   "metadata": {},
   "source": [
    "# Algorithm\n",
    "\n",
    "## Brute force\n",
    "\n",
    "1. Loop through the array\n",
    "2. For each index `i`, store `target - nums[i]`.\n",
    "3. Add a nested loop with index `j`. If `j != i` and the `target == nums[j]`, return `(i, j)`\n",
    "\n",
    "### Complexity\n",
    "* Time: O(n^2)\n",
    "* Space: O(1)\n",
    "\n",
    "## Brute force but less iterations\n",
    "1. Loop through the array `i = 0, len(nums)-1`\n",
    "2. Add a nested loop `j = i+1, len(nums)`\n",
    "3. Return `[i, j]` if `nums[i] + nums[j] == target`\n",
    "\n",
    "## Hash map\n",
    "1. Create a hash map where the key is the `target - nums[i]` and the value is `i`\n",
    "2. Loop through the array. If for an index `i`, `nums[i]` exists as a key, then return `(dictionary[nums[i], i)`\n",
    "\n",
    "### Complexity\n",
    "* Time: O(n)\n",
    "* Space: O(n)"
   ]
  },
  {
   "cell_type": "markdown",
   "metadata": {},
   "source": [
    "# Code"
   ]
  },
  {
   "cell_type": "code",
   "execution_count": 1,
   "metadata": {},
   "outputs": [],
   "source": [
    "def two_sum_1(nums, target):\n",
    "\tfor i in range(len(nums)):\n",
    "\t\ttarget1 = target - nums[i]\n",
    "\t\tfor j in range(len(nums)):\n",
    "\t\t\tif j != i and target1 == nums[j]:\n",
    "\t\t\t\treturn [i, j]\n",
    "\n",
    "def two_sum_2(nums, target):\n",
    "\tfor i in range(len(nums)-1):\n",
    "\t\tfor j in range(i+1, len(nums)):\n",
    "\t\t\tif nums[i] + nums[j] == target:\n",
    "\t\t\t\treturn [i, j]\n",
    "\n",
    "def two_sum_3(nums, target):\n",
    "\tdictionary = dict()\n",
    "\tfor i in range(len(nums)):\n",
    "\t\tif nums[i] in dictionary:\n",
    "\t\t\treturn (i, dictionary[nums[i]])\n",
    "\t\telse:\n",
    "\t\t\tdictionary[target - nums[i]] = i "
   ]
  },
  {
   "cell_type": "markdown",
   "metadata": {},
   "source": [
    "# Unit Test"
   ]
  },
  {
   "cell_type": "code",
   "execution_count": null,
   "metadata": {},
   "outputs": [],
   "source": [
    "# Insert unit tests"
   ]
  },
  {
   "cell_type": "code",
   "execution_count": null,
   "metadata": {},
   "outputs": [],
   "source": [
    "# Run Tests"
   ]
  },
  {
   "cell_type": "code",
   "execution_count": null,
   "metadata": {},
   "outputs": [],
   "source": []
  }
 ],
 "metadata": {
  "kernelspec": {
   "display_name": "Python 3.9.12",
   "language": "python",
   "name": "python3"
  },
  "language_info": {
   "name": "python",
   "version": "3.9.12"
  },
  "orig_nbformat": 4,
  "vscode": {
   "interpreter": {
    "hash": "88279d2366fe020547cde40dd65aa0e3aa662a6ec1f3ca12d88834876c85e1a6"
   }
  }
 },
 "nbformat": 4,
 "nbformat_minor": 2
}
