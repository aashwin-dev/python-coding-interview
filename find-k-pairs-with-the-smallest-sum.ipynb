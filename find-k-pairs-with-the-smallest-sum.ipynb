{
  "nbformat": 4,
  "nbformat_minor": 0,
  "metadata": {
    "colab": {
      "name": "Find K pairs with the smallest sum.ipynb",
      "provenance": [],
      "authorship_tag": "ABX9TyNofceHHonukd2SmCeHpaqd",
      "include_colab_link": true
    },
    "kernelspec": {
      "name": "python3",
      "display_name": "Python 3"
    },
    "language_info": {
      "name": "python"
    }
  },
  "cells": [
    {
      "cell_type": "markdown",
      "metadata": {
        "id": "view-in-github",
        "colab_type": "text"
      },
      "source": [
        "<a href=\"https://colab.research.google.com/github/aashwin-dev/python-coding-interview/blob/main/find-k-pairs-with-the-smallest-sum.ipynb\" target=\"_parent\"><img src=\"https://colab.research.google.com/assets/colab-badge.svg\" alt=\"Open In Colab\"/></a>"
      ]
    },
    {
      "cell_type": "markdown",
      "source": [
        "# Find K pairs with the smallest sum\n",
        "\n",
        "1. Create a dictionary holding `visited` pairs\n",
        "2. Create a `heap` and push the sum of the first elements from the lists. `(nums1[0] + nums2[0], (0, 0))` \n",
        "3. Create an `output` array that would store the final result.\n",
        "4. While the `heap` is not empty and the length of `output` array is less than `k`, do the following:\n",
        "    1. Check the two pairs created by taking the next element from either lists `(i, j+1)` and `(i+1, j)`. \n",
        "    2. Push the sum to the `heap` and mark the pair as `visited`."
      ],
      "metadata": {
        "id": "FfOpbPv8tmxg"
      }
    },
    {
      "cell_type": "code",
      "source": [
        "from heapq import heappush, heappop"
      ],
      "metadata": {
        "id": "mQR5DCcjrXj-"
      },
      "execution_count": 10,
      "outputs": []
    },
    {
      "cell_type": "code",
      "execution_count": 11,
      "metadata": {
        "id": "boinBrWWrOt6"
      },
      "outputs": [],
      "source": [
        "def kSmallestPairs(nums1, nums2, k):\n",
        "  visited = {}\n",
        "  heap = []\n",
        "  output = []\n",
        "\n",
        "  heappush(heap, (nums1[0] + nums2[0], (0, 0)))\n",
        "  visited[(0, 0)] = 1\n",
        "\n",
        "  while heap and len(output) < k:\n",
        "    _, (i, j) = heappop(heap)\n",
        "    output.append((nums1[i], nums2[j]))\n",
        "    if (i, j+1) not in visited and j+1 < len(nums2):\n",
        "      heappush(heap, (nums1[i] + nums2[j+1], (i, j+1)))\n",
        "      visited[(i, j+1)] = 1\n",
        "    if (i+1, j) not in visited and i+1 < len(nums1):\n",
        "      heappush(heap, (nums1[i+1] + nums2[j], (i+1, j)))\n",
        "      visited[(i+1, j)] = 1\n",
        "\n",
        "  return output"
      ]
    },
    {
      "cell_type": "code",
      "source": [
        "kSmallestPairs([1,7,11], [2,4,6], 3)"
      ],
      "metadata": {
        "colab": {
          "base_uri": "https://localhost:8080/"
        },
        "id": "o9MEomxXsgQB",
        "outputId": "55383c6a-5b42-48a3-cefc-8bc38a3a101a"
      },
      "execution_count": 12,
      "outputs": [
        {
          "output_type": "execute_result",
          "data": {
            "text/plain": [
              "[(1, 2), (1, 4), (1, 6)]"
            ]
          },
          "metadata": {},
          "execution_count": 12
        }
      ]
    },
    {
      "cell_type": "code",
      "source": [
        ""
      ],
      "metadata": {
        "id": "TGdAoKopsotK"
      },
      "execution_count": 9,
      "outputs": []
    }
  ]
}