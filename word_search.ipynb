{
  "nbformat": 4,
  "nbformat_minor": 0,
  "metadata": {
    "colab": {
      "name": "word_search.ipynb",
      "provenance": [],
      "collapsed_sections": [],
      "authorship_tag": "ABX9TyOPiv1PKSQOtuUQzxIstJF8",
      "include_colab_link": true
    },
    "kernelspec": {
      "name": "python3",
      "display_name": "Python 3"
    },
    "language_info": {
      "name": "python"
    }
  },
  "cells": [
    {
      "cell_type": "markdown",
      "metadata": {
        "id": "view-in-github",
        "colab_type": "text"
      },
      "source": [
        "<a href=\"https://colab.research.google.com/github/aashwin-dev/python-coding-interview/blob/main/word_search.ipynb\" target=\"_parent\"><img src=\"https://colab.research.google.com/assets/colab-badge.svg\" alt=\"Open In Colab\"/></a>"
      ]
    },
    {
      "cell_type": "markdown",
      "source": [
        "# Word Search\n",
        "\n",
        "Given an m x n grid of characters board and a string word, return true if word exists in the grid.\n",
        "\n",
        "The word can be constructed from letters of sequentially adjacent cells, where adjacent cells are horizontally or vertically neighboring. The same letter cell may not be used more than once.\n",
        "\n",
        "# Constraints\n",
        "\n",
        "* `m == board.length`\n",
        "* `n == board[i].length`\n",
        "* `1 <= m, n <= 6`\n",
        "* `1 <= word.length <= 15`\n",
        "* `board` and `word` consists of only lowercase and uppercase English letters\n"
      ],
      "metadata": {
        "id": "DU5KF98O8ZQK"
      }
    },
    {
      "cell_type": "markdown",
      "source": [
        "## Approach\n",
        "\n",
        "* Start by creating an array of `neigbors` of `[(-1, 0), (0, -1), (0, 1), (1, 0)]`\n",
        "* For each neighbor, initiate a depth first search that checks whether the current character is equal to the character in the grid.\n",
        "* If it is, move to the next character in the word. \n",
        "* If it isn't, move to the next neigbor and start the search again.\n",
        "* Also check if we are not going beyond the grid."
      ],
      "metadata": {
        "id": "SWIkdc2h8y6Z"
      }
    },
    {
      "cell_type": "code",
      "source": [
        "def get_neighbors(i, j):\n",
        "    neighbors = [(-1, 0), (0, -1), (0, 1), (1, 0)]\n",
        "    for neighbor in neighbors:\n",
        "        yield (i+neighbor[0], j+neighbor[1])"
      ],
      "metadata": {
        "id": "N0U84BsYANnu"
      },
      "execution_count": 4,
      "outputs": []
    },
    {
      "cell_type": "code",
      "source": [
        "for neighbor in get_neighbors(5, 3):\n",
        "    print(neighbor)"
      ],
      "metadata": {
        "colab": {
          "base_uri": "https://localhost:8080/"
        },
        "id": "wRpFTh9nAO1y",
        "outputId": "7eec12d1-7ead-4ab8-d47c-03305e9a4d70"
      },
      "execution_count": 5,
      "outputs": [
        {
          "output_type": "stream",
          "name": "stdout",
          "text": [
            "(4, 3)\n",
            "(5, 2)\n",
            "(5, 4)\n",
            "(6, 3)\n"
          ]
        }
      ]
    },
    {
      "cell_type": "code",
      "execution_count": 27,
      "metadata": {
        "id": "WpbyzkQR8DOK"
      },
      "outputs": [],
      "source": [
        "def exist(board, word):\n",
        "    m = len(board)\n",
        "    n = len(board[0])\n",
        "\n",
        "    return dfs(0, 0, board, word, m, n)\n",
        "\n",
        "def get_neighbors(i, j):\n",
        "    neighbors = [(-1, 0), (0, -1), (0, 1), (1, 0)]\n",
        "    for neighbor in neighbors:\n",
        "        yield (i+neighbor[0], j+neighbor[1])\n",
        "\n",
        "def dfs(i, j, board, word, m, n):\n",
        "    if len(word) == 0:\n",
        "        return True\n",
        "    if i >= 0 and i < m and j >= 0 and j < n:\n",
        "        print((i, j))\n",
        "        print(word)\n",
        "        if board[i][j] != word[0]:\n",
        "            return False\n",
        "        else:\n",
        "            temp = board[i][j]\n",
        "            board[i][j] = '#'\n",
        "            for neighbor in get_neighbors(i, j):\n",
        "                return dfs(neighbor[0], neighbor[1], board, word[1:], m, n)"
      ]
    },
    {
      "cell_type": "code",
      "source": [
        "class Solution:\n",
        "    def exist(self, board, word):\n",
        "        if not board:\n",
        "            return False\n",
        "        for i in range(len(board)):\n",
        "            for j in range(len(board[0])):\n",
        "                if self.dfs(board, i, j, word):\n",
        "                    return True\n",
        "        return False\n",
        "\n",
        "    def dfs(self, board, i, j, word):\n",
        "        if len(word) == 0:\n",
        "            return True\n",
        "        if i < 0 or i >= len(board) or j < 0 or j >= len(board[i]) or board[i][j] != word[0]:\n",
        "            return False\n",
        "        temp = board[i][j]\n",
        "        board[i][j] = '#'\n",
        "        res = self.dfs(board, i+1, j, word[1:]) or self.dfs(board, i-1, j, word[1:]) \\\n",
        "        or self.dfs(board, i, j+1, word[1:]) or self.dfs(board, i, j-1, word[1:])\n",
        "        board[i][j] = temp\n",
        "        return res\n",
        "\n",
        "        "
      ],
      "metadata": {
        "id": "8EKySaKlBEWo"
      },
      "execution_count": 29,
      "outputs": []
    },
    {
      "cell_type": "code",
      "source": [
        "class Solution:\n",
        "    def exist(self, board, word):\n",
        "        visited = {}\n",
        "\n",
        "        for row in range(len(board)):\n",
        "            for col in range(len(board[0])):\n",
        "                if self.dfs(board, word, row, col, visited):\n",
        "                    return True\n",
        "\n",
        "        return False\n",
        "\n",
        "    def dfs(self, board, word, row, col, visited, pos=0):\n",
        "        if pos == len(word):\n",
        "            return True\n",
        "\n",
        "        if row < 0 or row == len(board) or col < 0 or col == len(board[0]) or word[pos] != board[row][col] or visited.get((row, col)):\n",
        "            return False\n",
        "\n",
        "        visited[(row, col)] = True\n",
        "        res = self.dfs(board, word, row, col+1, visited, pos+1) \\\n",
        "            or self.dfs(board, word, row, col-1, visited, pos+1) \\\n",
        "            or self.dfs(board, word, row-1, col, visited, pos+1) \\\n",
        "            or self.dfs(board, word, row+1, col, visited, pos+1)\n",
        "        visited[(row, col)] = False\n",
        "\n",
        "        return res\n",
        "\n",
        "        "
      ],
      "metadata": {
        "id": "w1vzDgovA_Nl"
      },
      "execution_count": 31,
      "outputs": []
    },
    {
      "cell_type": "code",
      "source": [
        "class TrieNode:\n",
        "    def __init__(self):\n",
        "        self.is_word = False\n",
        "        self.children = {}\n",
        "\n",
        "    def __str__(self):\n",
        "        return str(self.children)\n",
        "\n",
        "class Trie:\n",
        "\n",
        "    def __init__(self):\n",
        "        self.root = TrieNode()\n",
        "\n",
        "    def __str__(self):\n",
        "        return str(self.root)\n",
        "\n",
        "    def insert(self, word: str) -> None:\n",
        "        current = self.root\n",
        "        for letter in word:\n",
        "            if letter not in current.children:\n",
        "                current.children[letter] = TrieNode()\n",
        "            current = current.children[letter]\n",
        "        current.is_word = True\n",
        "\n",
        "    def search(self, word: str) -> bool:\n",
        "        current = self.root\n",
        "        for letter in word:\n",
        "            if letter not in current.children:\n",
        "                return False\n",
        "            current = current.children[letter]\n",
        "        return current.is_word\n",
        "\n",
        "    def startsWith(self, prefix: str) -> bool:\n",
        "        current = self.root\n",
        "        for letter in prefix:\n",
        "            if letter not in current.children:\n",
        "                return False\n",
        "            current = current.children[letter]\n",
        "        return True\n",
        "\n",
        "\n",
        "# Your Trie object will be instantiated and called as such:\n",
        "# obj = Trie()\n",
        "# obj.insert(word)\n",
        "# param_2 = obj.search(word)\n",
        "# param_3 = obj.startsWith(prefix)"
      ],
      "metadata": {
        "id": "IvLTb8hgE3EJ"
      },
      "execution_count": 44,
      "outputs": []
    },
    {
      "cell_type": "code",
      "source": [
        "class Solution:\n",
        "    def findWords(self, board, words):\n",
        "        res = []\n",
        "        trie = Trie()\n",
        "        node = trie.root\n",
        "        for word in words:\n",
        "            trie.insert(word)\n",
        "        for row in range(len(board)):\n",
        "            for col in range(len(board[0])):\n",
        "                self.dfs(board, node, row, col, '', res)\n",
        "        return res\n",
        "\n",
        "\n",
        "    def dfs(self, board, node, row, col, path, res):\n",
        "        if node.is_word:\n",
        "            res.append(path)\n",
        "            node.is_word = False\n",
        "        if row < 0 or row == len(board) or col < 0 or col == len(board[0]):\n",
        "            return\n",
        "        temp = board[row][col]\n",
        "        node = node.children.get(temp)\n",
        "        if not node:\n",
        "            return\n",
        "        board[row][col] = '#'\n",
        "        self.dfs(board, node, row-1, col, path+temp, res)\n",
        "        self.dfs(board, node, row+1, col, path+temp, res)\n",
        "        self.dfs(board, node, row, col-1, path+temp, res)\n",
        "        self.dfs(board, node, row, col+1, path+temp, res)\n",
        "        board[row][col] = temp\n",
        "\n"
      ],
      "metadata": {
        "id": "g-ZBMJhBqhue"
      },
      "execution_count": 45,
      "outputs": []
    },
    {
      "cell_type": "code",
      "source": [
        "t = Trie()\n",
        "t.insert('wbsd')"
      ],
      "metadata": {
        "id": "nV4KTXiAq4b6"
      },
      "execution_count": 46,
      "outputs": []
    },
    {
      "cell_type": "code",
      "source": [
        "t"
      ],
      "metadata": {
        "colab": {
          "base_uri": "https://localhost:8080/"
        },
        "id": "NvGv5o01vGb4",
        "outputId": "d27b9188-fa34-4b9e-bac1-c7d983714ceb"
      },
      "execution_count": 47,
      "outputs": [
        {
          "output_type": "execute_result",
          "data": {
            "text/plain": [
              "<__main__.Trie at 0x7fd422e73d50>"
            ]
          },
          "metadata": {},
          "execution_count": 47
        }
      ]
    },
    {
      "cell_type": "code",
      "source": [
        ""
      ],
      "metadata": {
        "id": "MeSWnMuovHGt"
      },
      "execution_count": null,
      "outputs": []
    }
  ]
}