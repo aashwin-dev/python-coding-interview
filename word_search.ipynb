{
  "cells": [
    {
      "cell_type": "markdown",
      "metadata": {
        "colab_type": "text",
        "id": "view-in-github"
      },
      "source": [
        "<a href=\"https://colab.research.google.com/github/aashwin-dev/python-coding-interview/blob/main/word_search.ipynb\" target=\"_parent\"><img src=\"https://colab.research.google.com/assets/colab-badge.svg\" alt=\"Open In Colab\"/></a>"
      ]
    },
    {
      "cell_type": "markdown",
      "metadata": {
        "id": "DU5KF98O8ZQK"
      },
      "source": [
        "# Word Search\n",
        "\n",
        "Given an m x n grid of characters board and a string word, return true if word exists in the grid.\n",
        "\n",
        "The word can be constructed from letters of sequentially adjacent cells, where adjacent cells are horizontally or vertically neighboring. The same letter cell may not be used more than once.\n",
        "\n",
        "# Constraints\n",
        "\n",
        "* `m == board.length`\n",
        "* `n == board[i].length`\n",
        "* `1 <= m, n <= 6`\n",
        "* `1 <= word.length <= 15`\n",
        "* `board` and `word` consists of only lowercase and uppercase English letters\n"
      ]
    },
    {
      "cell_type": "markdown",
      "metadata": {
        "id": "SWIkdc2h8y6Z"
      },
      "source": [
        "## Approach\n",
        "\n",
        "* Start by creating an array of `neigbors` of `[(-1, 0), (0, -1), (0, 1), (1, 0)]`\n",
        "* For each neighbor, initiate a depth first search that checks whether the current character is equal to the character in the grid.\n",
        "* If it is, move to the next character in the word. \n",
        "* If it isn't, move to the next neigbor and start the search again.\n",
        "* Also check if we are not going beyond the grid."
      ]
    },
    {
      "cell_type": "code",
      "execution_count": 4,
      "metadata": {
        "id": "N0U84BsYANnu"
      },
      "outputs": [],
      "source": [
        "def get_neighbors(i, j):\n",
        "    neighbors = [(-1, 0), (0, -1), (0, 1), (1, 0)]\n",
        "    for neighbor in neighbors:\n",
        "        yield (i+neighbor[0], j+neighbor[1])"
      ]
    },
    {
      "cell_type": "code",
      "execution_count": 5,
      "metadata": {
        "colab": {
          "base_uri": "https://localhost:8080/"
        },
        "id": "wRpFTh9nAO1y",
        "outputId": "7eec12d1-7ead-4ab8-d47c-03305e9a4d70"
      },
      "outputs": [
        {
          "name": "stdout",
          "output_type": "stream",
          "text": [
            "(4, 3)\n",
            "(5, 2)\n",
            "(5, 4)\n",
            "(6, 3)\n"
          ]
        }
      ],
      "source": [
        "for neighbor in get_neighbors(5, 3):\n",
        "    print(neighbor)"
      ]
    },
    {
      "cell_type": "code",
      "execution_count": 27,
      "metadata": {
        "id": "WpbyzkQR8DOK"
      },
      "outputs": [],
      "source": [
        "def exist(board, word):\n",
        "    m = len(board)\n",
        "    n = len(board[0])\n",
        "\n",
        "    return dfs(0, 0, board, word, m, n)\n",
        "\n",
        "def get_neighbors(i, j):\n",
        "    neighbors = [(-1, 0), (0, -1), (0, 1), (1, 0)]\n",
        "    for neighbor in neighbors:\n",
        "        yield (i+neighbor[0], j+neighbor[1])\n",
        "\n",
        "def dfs(i, j, board, word, m, n):\n",
        "    if len(word) == 0:\n",
        "        return True\n",
        "    if i >= 0 and i < m and j >= 0 and j < n:\n",
        "        print((i, j))\n",
        "        print(word)\n",
        "        if board[i][j] != word[0]:\n",
        "            return False\n",
        "        else:\n",
        "            temp = board[i][j]\n",
        "            board[i][j] = '#'\n",
        "            for neighbor in get_neighbors(i, j):\n",
        "                return dfs(neighbor[0], neighbor[1], board, word[1:], m, n)"
      ]
    },
    {
      "cell_type": "code",
      "execution_count": 29,
      "metadata": {
        "id": "8EKySaKlBEWo"
      },
      "outputs": [],
      "source": [
        "class Solution:\n",
        "    def exist(self, board, word):\n",
        "        if not board:\n",
        "            return False\n",
        "        for i in range(len(board)):\n",
        "            for j in range(len(board[0])):\n",
        "                if self.dfs(board, i, j, word):\n",
        "                    return True\n",
        "        return False\n",
        "\n",
        "    def dfs(self, board, i, j, word):\n",
        "        if len(word) == 0:\n",
        "            return True\n",
        "        if i < 0 or i >= len(board) or j < 0 or j >= len(board[i]) or board[i][j] != word[0]:\n",
        "            return False\n",
        "        temp = board[i][j]\n",
        "        board[i][j] = '#'\n",
        "        res = self.dfs(board, i+1, j, word[1:]) or self.dfs(board, i-1, j, word[1:]) \\\n",
        "        or self.dfs(board, i, j+1, word[1:]) or self.dfs(board, i, j-1, word[1:])\n",
        "        board[i][j] = temp\n",
        "        return res\n",
        "\n",
        "        "
      ]
    },
    {
      "cell_type": "code",
      "execution_count": 31,
      "metadata": {
        "id": "w1vzDgovA_Nl"
      },
      "outputs": [],
      "source": [
        "class Solution:\n",
        "    def exist(self, board, word):\n",
        "        visited = {}\n",
        "\n",
        "        for row in range(len(board)):\n",
        "            for col in range(len(board[0])):\n",
        "                if self.dfs(board, word, row, col, visited):\n",
        "                    return True\n",
        "\n",
        "        return False\n",
        "\n",
        "    def dfs(self, board, word, row, col, visited, pos=0):\n",
        "        if pos == len(word):\n",
        "            return True\n",
        "\n",
        "        if row < 0 or row == len(board) or col < 0 or col == len(board[0]) or word[pos] != board[row][col] or visited.get((row, col)):\n",
        "            return False\n",
        "\n",
        "        visited[(row, col)] = True\n",
        "        res = self.dfs(board, word, row, col+1, visited, pos+1) \\\n",
        "            or self.dfs(board, word, row, col-1, visited, pos+1) \\\n",
        "            or self.dfs(board, word, row-1, col, visited, pos+1) \\\n",
        "            or self.dfs(board, word, row+1, col, visited, pos+1)\n",
        "        visited[(row, col)] = False\n",
        "\n",
        "        return res\n",
        "\n",
        "        "
      ]
    },
    {
      "cell_type": "code",
      "execution_count": 44,
      "metadata": {
        "id": "IvLTb8hgE3EJ"
      },
      "outputs": [],
      "source": [
        "class TrieNode:\n",
        "    def __init__(self):\n",
        "        self.is_word = False\n",
        "        self.children = {}\n",
        "\n",
        "    def __str__(self):\n",
        "        return str(self.children)\n",
        "\n",
        "class Trie:\n",
        "\n",
        "    def __init__(self):\n",
        "        self.root = TrieNode()\n",
        "\n",
        "    def __str__(self):\n",
        "        return str(self.root)\n",
        "\n",
        "    def insert(self, word: str) -> None:\n",
        "        current = self.root\n",
        "        for letter in word:\n",
        "            if letter not in current.children:\n",
        "                current.children[letter] = TrieNode()\n",
        "            current = current.children[letter]\n",
        "        current.is_word = True\n",
        "\n",
        "    def search(self, word: str) -> bool:\n",
        "        current = self.root\n",
        "        for letter in word:\n",
        "            if letter not in current.children:\n",
        "                return False\n",
        "            current = current.children[letter]\n",
        "        return current.is_word\n",
        "\n",
        "    def startsWith(self, prefix: str) -> bool:\n",
        "        current = self.root\n",
        "        for letter in prefix:\n",
        "            if letter not in current.children:\n",
        "                return False\n",
        "            current = current.children[letter]\n",
        "        return True\n",
        "\n",
        "\n",
        "# Your Trie object will be instantiated and called as such:\n",
        "# obj = Trie()\n",
        "# obj.insert(word)\n",
        "# param_2 = obj.search(word)\n",
        "# param_3 = obj.startsWith(prefix)"
      ]
    },
    {
      "cell_type": "code",
      "execution_count": 45,
      "metadata": {
        "id": "g-ZBMJhBqhue"
      },
      "outputs": [],
      "source": [
        "class Solution:\n",
        "    def findWords(self, board, words):\n",
        "        res = []\n",
        "        trie = Trie()\n",
        "        node = trie.root\n",
        "        for word in words:\n",
        "            trie.insert(word)\n",
        "        for row in range(len(board)):\n",
        "            for col in range(len(board[0])):\n",
        "                self.dfs(board, node, row, col, '', res)\n",
        "        return res\n",
        "\n",
        "\n",
        "    def dfs(self, board, node, row, col, path, res):\n",
        "        if node.is_word:\n",
        "            res.append(path)\n",
        "            node.is_word = False\n",
        "        if row < 0 or row == len(board) or col < 0 or col == len(board[0]):\n",
        "            return\n",
        "        temp = board[row][col]\n",
        "        node = node.children.get(temp)\n",
        "        if not node:\n",
        "            return\n",
        "        board[row][col] = '#'\n",
        "        self.dfs(board, node, row-1, col, path+temp, res)\n",
        "        self.dfs(board, node, row+1, col, path+temp, res)\n",
        "        self.dfs(board, node, row, col-1, path+temp, res)\n",
        "        self.dfs(board, node, row, col+1, path+temp, res)\n",
        "        board[row][col] = temp\n",
        "\n"
      ]
    },
    {
      "cell_type": "code",
      "execution_count": 46,
      "metadata": {
        "id": "nV4KTXiAq4b6"
      },
      "outputs": [],
      "source": [
        "t = Trie()\n",
        "t.insert('wbsd')"
      ]
    },
    {
      "cell_type": "code",
      "execution_count": 15,
      "metadata": {
        "colab": {
          "base_uri": "https://localhost:8080/"
        },
        "id": "NvGv5o01vGb4",
        "outputId": "d27b9188-fa34-4b9e-bac1-c7d983714ceb"
      },
      "outputs": [],
      "source": [
        "class TrieNode:\n",
        "\n",
        "    def __init__(self):\n",
        "        self.children = {}\n",
        "        self.is_word = False\n",
        "\n",
        "    def insert(self, word: str) -> None:\n",
        "        current = self\n",
        "        for letter in word:\n",
        "            if letter not in current.children:\n",
        "                current.children[letter] = TrieNode()\n",
        "            current = current.children[letter]\n",
        "        current.is_word = True\n",
        "\n",
        "    def search(self, word: str) -> bool:\n",
        "        current = self\n",
        "        for letter in word:\n",
        "            if letter not in current.children:\n",
        "                return False\n",
        "            current = current.children[letter]\n",
        "        return current.is_word\n",
        "\n",
        "    def startsWith(self, prefix: str) -> bool:\n",
        "        current = self\n",
        "        for letter in prefix:\n",
        "            if letter not in current.children:\n",
        "                return False\n",
        "            current = current.children[letter]\n",
        "        return True\n",
        "\n",
        "    def __str__(self):\n",
        "        return ' {%s}' % (\n",
        "                ', '.join('%s: %s' % item for item in self.children.items()))\n",
        "\n",
        "\n",
        "class Solution:\n",
        "    def findWords(self, board, words):\n",
        "        res = []\n",
        "        node = TrieNode()\n",
        "        for word in words:\n",
        "            node.insert(word)\n",
        "        for row in range(len(board)):\n",
        "            for col in range(len(board[0])):\n",
        "                self.dfs(board, node, row, col, '', res)\n",
        "\n",
        "        print(node)\n",
        "        return res\n",
        "\n",
        "\n",
        "    def dfs(self, board, node, row, col, path, res):\n",
        "        if node.is_word:\n",
        "            res.append(path)\n",
        "            node.is_word = False\n",
        "        if row < 0 or row == len(board) or col < 0 or col == len(board[0]):\n",
        "            return\n",
        "        temp = board[row][col]\n",
        "        node = node.children.get(temp)\n",
        "        if not node:\n",
        "            return\n",
        "        board[row][col] = '#'\n",
        "        self.dfs(board, node, row-1, col, path+temp, res)\n",
        "        self.dfs(board, node, row+1, col, path+temp, res)\n",
        "        self.dfs(board, node, row, col-1, path+temp, res)\n",
        "        self.dfs(board, node, row, col+1, path+temp, res)\n",
        "        board[row][col] = temp"
      ]
    },
    {
      "cell_type": "code",
      "execution_count": 16,
      "metadata": {
        "id": "MeSWnMuovHGt"
      },
      "outputs": [
        {
          "name": "stdout",
          "output_type": "stream",
          "text": [
            " {o:  {a:  {t:  {h:  {}}}}, p:  {e:  {a:  {}}}, e:  {a:  {t:  {}}}, r:  {a:  {i:  {n:  {}}}}}\n"
          ]
        },
        {
          "data": {
            "text/plain": [
              "['oath', 'eat']"
            ]
          },
          "execution_count": 16,
          "metadata": {},
          "output_type": "execute_result"
        }
      ],
      "source": [
        "x = Solution() \n",
        "x.findWords([[\"o\",\"a\",\"a\",\"n\"],[\"e\",\"t\",\"a\",\"e\"],[\"i\",\"h\",\"k\",\"r\"],[\"i\",\"f\",\"l\",\"v\"]], [\"oath\",\"pea\",\"eat\",\"rain\"])"
      ]
    },
    {
      "cell_type": "code",
      "execution_count": 9,
      "metadata": {},
      "outputs": [
        {
          "data": {
            "text/plain": [
              "odict_keys(['a', 'b'])"
            ]
          },
          "execution_count": 9,
          "metadata": {},
          "output_type": "execute_result"
        }
      ],
      "source": [
        "from collections import OrderedDict\n",
        "a = OrderedDict({'a':1, 'b':2})\n",
        "a.keys()"
      ]
    },
    {
      "cell_type": "code",
      "execution_count": null,
      "metadata": {},
      "outputs": [],
      "source": [
        "\n"
      ]
    }
  ],
  "metadata": {
    "colab": {
      "authorship_tag": "ABX9TyOPiv1PKSQOtuUQzxIstJF8",
      "collapsed_sections": [],
      "include_colab_link": true,
      "name": "word_search.ipynb",
      "provenance": []
    },
    "kernelspec": {
      "display_name": "Python 3.8.3 ('base')",
      "language": "python",
      "name": "python3"
    },
    "language_info": {
      "codemirror_mode": {
        "name": "ipython",
        "version": 3
      },
      "file_extension": ".py",
      "mimetype": "text/x-python",
      "name": "python",
      "nbconvert_exporter": "python",
      "pygments_lexer": "ipython3",
      "version": "3.8.3"
    },
    "vscode": {
      "interpreter": {
        "hash": "223f1625d6b23a18ba7b3195bda64e25f9cbe9136944d8500596c28327ae6490"
      }
    }
  },
  "nbformat": 4,
  "nbformat_minor": 0
}
