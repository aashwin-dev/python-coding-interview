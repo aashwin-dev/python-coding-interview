{
 "cells": [
  {
   "cell_type": "markdown",
   "metadata": {},
   "source": [
    "# General problem solving approach\n",
    "\n",
    "## Consider the constraints\n",
    "That includes the size of the input, length of array, data type, sorted.\n"
   ]
  },
  {
   "cell_type": "markdown",
   "metadata": {},
   "source": [
    "\n",
    "## Consider the edge cases\n",
    "### Numbers\n",
    "0, positive number, negative number, duplicate numbers, sorted order, empty input, single value input, MIN_INT, MAX_INT, leading zeros, Null\n",
    "\n",
    "### Arrays\n",
    "Size of array, index error, duplicate numbers, sort order, \n",
    "\n",
    "### Strings\n",
    "Null, Non-null, empty strings, length 1 strings, long string, uppercase, lowercase, ascii/unicode, character to find not found, numbers being present, event length/odd length, all same characters, \n",
    "If limited to a specific set of characters, what happens when some are not in the range\n",
    "Presence of duplicate characters\n",
    "\n",
    "### Stack and Queue\n",
    "Popping from empty stack/queue\n",
    "\n",
    "### Hashmap\n",
    "Getting value of a key in a hashmap when the key doesn't exist\n",
    "\n",
    "### Trees\n",
    "Full, complete Binary Tree or BST\n",
    "\n",
    "### Graphs\n",
    "Type of graph. Connectivity and if it's directed or undirected, DAG? Minimum weight cycles? Adj list or matrix?\n",
    "\n",
    "### Some other checks to avoid the errors:\n",
    "\n",
    "* Return type: are we returning correct return value\n",
    "* Memory error: Will it fit. Accessing out of bound\n",
    "* For TLE: while loops running forever. Correctly update variables in the `while` condition.\n",
    "* For value error: Dividing by zero\n",
    "* Custom sorting with multiple conditions\n",
    "* Presence of duplicates\n",
    "* Multiple solutions\n",
    "* Empty spaces"
   ]
  },
  {
   "cell_type": "markdown",
   "metadata": {},
   "source": []
  }
 ],
 "metadata": {
  "language_info": {
   "name": "python"
  },
  "orig_nbformat": 4
 },
 "nbformat": 4,
 "nbformat_minor": 2
}
