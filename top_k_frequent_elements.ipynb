{
  "nbformat": 4,
  "nbformat_minor": 0,
  "metadata": {
    "colab": {
      "name": "top-k-frequent-elements.ipynb",
      "provenance": [],
      "authorship_tag": "ABX9TyMp4KdpO+LW6t9+3VWUW4bx",
      "include_colab_link": true
    },
    "kernelspec": {
      "name": "python3",
      "display_name": "Python 3"
    },
    "language_info": {
      "name": "python"
    }
  },
  "cells": [
    {
      "cell_type": "markdown",
      "metadata": {
        "id": "view-in-github",
        "colab_type": "text"
      },
      "source": [
        "<a href=\"https://colab.research.google.com/github/aashwin-dev/python-coding-interview/blob/main/top_k_frequent_elements.ipynb\" target=\"_parent\"><img src=\"https://colab.research.google.com/assets/colab-badge.svg\" alt=\"Open In Colab\"/></a>"
      ]
    },
    {
      "cell_type": "code",
      "execution_count": 5,
      "metadata": {
        "id": "u1QIrAQx2sU2"
      },
      "outputs": [],
      "source": [
        "from heapq import heappop, heappush, heapify\n",
        "from collections import Counter"
      ]
    },
    {
      "cell_type": "code",
      "source": [
        "Counter([2,4,5,1,2,2,2,6])"
      ],
      "metadata": {
        "colab": {
          "base_uri": "https://localhost:8080/"
        },
        "id": "B70wZ7g93AsX",
        "outputId": "072e80f5-8ae5-4023-a727-392c4ef4d24f"
      },
      "execution_count": 6,
      "outputs": [
        {
          "output_type": "execute_result",
          "data": {
            "text/plain": [
              "Counter({1: 1, 2: 4, 4: 1, 5: 1, 6: 1})"
            ]
          },
          "metadata": {},
          "execution_count": 6
        }
      ]
    },
    {
      "cell_type": "code",
      "source": [
        "# Frequency is the Priority\n",
        "# Create a heap of numbers and their frequency\n",
        "\n",
        "def topKFrequent(nums, k):\n",
        "    frequency = Counter(nums)\n",
        "    unique_nums = list(frequency.keys())\n",
        "    heap = [(frequency[num], num) for num in unique_nums[:k]]\n",
        "    heapify(heap)\n",
        "\n",
        "    for num in unique_nums[k:]:\n",
        "        heappush(heap, (frequency[num], num))\n",
        "        heappop(heap)\n",
        "\n",
        "    return [frequent_element[1] for frequent_element in heap]"
      ],
      "metadata": {
        "id": "FmbUBV-K21-N"
      },
      "execution_count": 9,
      "outputs": []
    },
    {
      "cell_type": "code",
      "source": [
        "topKFrequent([1,1,1,2,2,3], 2)"
      ],
      "metadata": {
        "colab": {
          "base_uri": "https://localhost:8080/"
        },
        "id": "8xX0f1zd3_jz",
        "outputId": "5581706f-7b12-4bfb-a66d-53083576f6c8"
      },
      "execution_count": 10,
      "outputs": [
        {
          "output_type": "execute_result",
          "data": {
            "text/plain": [
              "[2, 1]"
            ]
          },
          "metadata": {},
          "execution_count": 10
        }
      ]
    },
    {
      "cell_type": "code",
      "source": [
        ""
      ],
      "metadata": {
        "id": "OcnytfPC4C-_"
      },
      "execution_count": null,
      "outputs": []
    }
  ]
}